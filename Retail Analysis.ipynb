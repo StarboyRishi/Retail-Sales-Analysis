{
 "cells": [
  {
   "cell_type": "code",
   "execution_count": 6,
   "id": "eb702b53",
   "metadata": {},
   "outputs": [],
   "source": [
    "import numpy as np\n",
    "import pandas as pd"
   ]
  },
  {
   "cell_type": "code",
   "execution_count": 7,
   "id": "e844d638",
   "metadata": {},
   "outputs": [
    {
     "data": {
      "text/html": [
       "<div>\n",
       "<style scoped>\n",
       "    .dataframe tbody tr th:only-of-type {\n",
       "        vertical-align: middle;\n",
       "    }\n",
       "\n",
       "    .dataframe tbody tr th {\n",
       "        vertical-align: top;\n",
       "    }\n",
       "\n",
       "    .dataframe thead th {\n",
       "        text-align: right;\n",
       "    }\n",
       "</style>\n",
       "<table border=\"1\" class=\"dataframe\">\n",
       "  <thead>\n",
       "    <tr style=\"text-align: right;\">\n",
       "      <th></th>\n",
       "      <th>customer_id</th>\n",
       "      <th>trans_date</th>\n",
       "      <th>tran_amount</th>\n",
       "    </tr>\n",
       "  </thead>\n",
       "  <tbody>\n",
       "    <tr>\n",
       "      <th>0</th>\n",
       "      <td>CS5295</td>\n",
       "      <td>11-Feb-13</td>\n",
       "      <td>35</td>\n",
       "    </tr>\n",
       "    <tr>\n",
       "      <th>1</th>\n",
       "      <td>CS4768</td>\n",
       "      <td>15-Mar-15</td>\n",
       "      <td>39</td>\n",
       "    </tr>\n",
       "    <tr>\n",
       "      <th>2</th>\n",
       "      <td>CS2122</td>\n",
       "      <td>26-Feb-13</td>\n",
       "      <td>52</td>\n",
       "    </tr>\n",
       "    <tr>\n",
       "      <th>3</th>\n",
       "      <td>CS1217</td>\n",
       "      <td>16-Nov-11</td>\n",
       "      <td>99</td>\n",
       "    </tr>\n",
       "    <tr>\n",
       "      <th>4</th>\n",
       "      <td>CS1850</td>\n",
       "      <td>20-Nov-13</td>\n",
       "      <td>78</td>\n",
       "    </tr>\n",
       "    <tr>\n",
       "      <th>...</th>\n",
       "      <td>...</td>\n",
       "      <td>...</td>\n",
       "      <td>...</td>\n",
       "    </tr>\n",
       "    <tr>\n",
       "      <th>124995</th>\n",
       "      <td>CS8433</td>\n",
       "      <td>26-Jun-11</td>\n",
       "      <td>64</td>\n",
       "    </tr>\n",
       "    <tr>\n",
       "      <th>124996</th>\n",
       "      <td>CS7232</td>\n",
       "      <td>19-Aug-14</td>\n",
       "      <td>38</td>\n",
       "    </tr>\n",
       "    <tr>\n",
       "      <th>124997</th>\n",
       "      <td>CS8731</td>\n",
       "      <td>28-Nov-14</td>\n",
       "      <td>42</td>\n",
       "    </tr>\n",
       "    <tr>\n",
       "      <th>124998</th>\n",
       "      <td>CS8133</td>\n",
       "      <td>14-Dec-13</td>\n",
       "      <td>13</td>\n",
       "    </tr>\n",
       "    <tr>\n",
       "      <th>124999</th>\n",
       "      <td>CS7996</td>\n",
       "      <td>13-Dec-14</td>\n",
       "      <td>36</td>\n",
       "    </tr>\n",
       "  </tbody>\n",
       "</table>\n",
       "<p>125000 rows × 3 columns</p>\n",
       "</div>"
      ],
      "text/plain": [
       "       customer_id trans_date  tran_amount\n",
       "0           CS5295  11-Feb-13           35\n",
       "1           CS4768  15-Mar-15           39\n",
       "2           CS2122  26-Feb-13           52\n",
       "3           CS1217  16-Nov-11           99\n",
       "4           CS1850  20-Nov-13           78\n",
       "...            ...        ...          ...\n",
       "124995      CS8433  26-Jun-11           64\n",
       "124996      CS7232  19-Aug-14           38\n",
       "124997      CS8731  28-Nov-14           42\n",
       "124998      CS8133  14-Dec-13           13\n",
       "124999      CS7996  13-Dec-14           36\n",
       "\n",
       "[125000 rows x 3 columns]"
      ]
     },
     "execution_count": 7,
     "metadata": {},
     "output_type": "execute_result"
    }
   ],
   "source": [
    "trxn = pd.read_csv('Retail_Data_Transactions.csv')\n",
    "trxn"
   ]
  },
  {
   "cell_type": "code",
   "execution_count": 11,
   "id": "058a73d4",
   "metadata": {},
   "outputs": [
    {
     "data": {
      "text/html": [
       "<div>\n",
       "<style scoped>\n",
       "    .dataframe tbody tr th:only-of-type {\n",
       "        vertical-align: middle;\n",
       "    }\n",
       "\n",
       "    .dataframe tbody tr th {\n",
       "        vertical-align: top;\n",
       "    }\n",
       "\n",
       "    .dataframe thead th {\n",
       "        text-align: right;\n",
       "    }\n",
       "</style>\n",
       "<table border=\"1\" class=\"dataframe\">\n",
       "  <thead>\n",
       "    <tr style=\"text-align: right;\">\n",
       "      <th></th>\n",
       "      <th>customer_id</th>\n",
       "      <th>response</th>\n",
       "    </tr>\n",
       "  </thead>\n",
       "  <tbody>\n",
       "    <tr>\n",
       "      <th>0</th>\n",
       "      <td>CS1112</td>\n",
       "      <td>0</td>\n",
       "    </tr>\n",
       "    <tr>\n",
       "      <th>1</th>\n",
       "      <td>CS1113</td>\n",
       "      <td>0</td>\n",
       "    </tr>\n",
       "    <tr>\n",
       "      <th>2</th>\n",
       "      <td>CS1114</td>\n",
       "      <td>1</td>\n",
       "    </tr>\n",
       "    <tr>\n",
       "      <th>3</th>\n",
       "      <td>CS1115</td>\n",
       "      <td>1</td>\n",
       "    </tr>\n",
       "    <tr>\n",
       "      <th>4</th>\n",
       "      <td>CS1116</td>\n",
       "      <td>1</td>\n",
       "    </tr>\n",
       "    <tr>\n",
       "      <th>...</th>\n",
       "      <td>...</td>\n",
       "      <td>...</td>\n",
       "    </tr>\n",
       "    <tr>\n",
       "      <th>6879</th>\n",
       "      <td>CS8996</td>\n",
       "      <td>0</td>\n",
       "    </tr>\n",
       "    <tr>\n",
       "      <th>6880</th>\n",
       "      <td>CS8997</td>\n",
       "      <td>0</td>\n",
       "    </tr>\n",
       "    <tr>\n",
       "      <th>6881</th>\n",
       "      <td>CS8998</td>\n",
       "      <td>0</td>\n",
       "    </tr>\n",
       "    <tr>\n",
       "      <th>6882</th>\n",
       "      <td>CS8999</td>\n",
       "      <td>0</td>\n",
       "    </tr>\n",
       "    <tr>\n",
       "      <th>6883</th>\n",
       "      <td>CS9000</td>\n",
       "      <td>0</td>\n",
       "    </tr>\n",
       "  </tbody>\n",
       "</table>\n",
       "<p>6884 rows × 2 columns</p>\n",
       "</div>"
      ],
      "text/plain": [
       "     customer_id  response\n",
       "0         CS1112         0\n",
       "1         CS1113         0\n",
       "2         CS1114         1\n",
       "3         CS1115         1\n",
       "4         CS1116         1\n",
       "...          ...       ...\n",
       "6879      CS8996         0\n",
       "6880      CS8997         0\n",
       "6881      CS8998         0\n",
       "6882      CS8999         0\n",
       "6883      CS9000         0\n",
       "\n",
       "[6884 rows x 2 columns]"
      ]
     },
     "execution_count": 11,
     "metadata": {},
     "output_type": "execute_result"
    }
   ],
   "source": [
    "response = pd.read_csv('Retail_Data_Response.csv')\n",
    "response"
   ]
  },
  {
   "cell_type": "code",
   "execution_count": 14,
   "id": "2a6f3385",
   "metadata": {},
   "outputs": [
    {
     "data": {
      "text/html": [
       "<div>\n",
       "<style scoped>\n",
       "    .dataframe tbody tr th:only-of-type {\n",
       "        vertical-align: middle;\n",
       "    }\n",
       "\n",
       "    .dataframe tbody tr th {\n",
       "        vertical-align: top;\n",
       "    }\n",
       "\n",
       "    .dataframe thead th {\n",
       "        text-align: right;\n",
       "    }\n",
       "</style>\n",
       "<table border=\"1\" class=\"dataframe\">\n",
       "  <thead>\n",
       "    <tr style=\"text-align: right;\">\n",
       "      <th></th>\n",
       "      <th>customer_id</th>\n",
       "      <th>trans_date</th>\n",
       "      <th>tran_amount</th>\n",
       "      <th>response</th>\n",
       "    </tr>\n",
       "  </thead>\n",
       "  <tbody>\n",
       "    <tr>\n",
       "      <th>0</th>\n",
       "      <td>CS5295</td>\n",
       "      <td>11-Feb-13</td>\n",
       "      <td>35</td>\n",
       "      <td>1</td>\n",
       "    </tr>\n",
       "    <tr>\n",
       "      <th>1</th>\n",
       "      <td>CS5295</td>\n",
       "      <td>25-Nov-14</td>\n",
       "      <td>54</td>\n",
       "      <td>1</td>\n",
       "    </tr>\n",
       "    <tr>\n",
       "      <th>2</th>\n",
       "      <td>CS5295</td>\n",
       "      <td>22-May-13</td>\n",
       "      <td>37</td>\n",
       "      <td>1</td>\n",
       "    </tr>\n",
       "    <tr>\n",
       "      <th>3</th>\n",
       "      <td>CS5295</td>\n",
       "      <td>24-Dec-12</td>\n",
       "      <td>36</td>\n",
       "      <td>1</td>\n",
       "    </tr>\n",
       "    <tr>\n",
       "      <th>4</th>\n",
       "      <td>CS5295</td>\n",
       "      <td>22-Mar-13</td>\n",
       "      <td>98</td>\n",
       "      <td>1</td>\n",
       "    </tr>\n",
       "    <tr>\n",
       "      <th>...</th>\n",
       "      <td>...</td>\n",
       "      <td>...</td>\n",
       "      <td>...</td>\n",
       "      <td>...</td>\n",
       "    </tr>\n",
       "    <tr>\n",
       "      <th>124964</th>\n",
       "      <td>CS8077</td>\n",
       "      <td>18-Sep-11</td>\n",
       "      <td>51</td>\n",
       "      <td>0</td>\n",
       "    </tr>\n",
       "    <tr>\n",
       "      <th>124965</th>\n",
       "      <td>CS8077</td>\n",
       "      <td>02-Dec-14</td>\n",
       "      <td>27</td>\n",
       "      <td>0</td>\n",
       "    </tr>\n",
       "    <tr>\n",
       "      <th>124966</th>\n",
       "      <td>CS8077</td>\n",
       "      <td>28-Aug-11</td>\n",
       "      <td>30</td>\n",
       "      <td>0</td>\n",
       "    </tr>\n",
       "    <tr>\n",
       "      <th>124967</th>\n",
       "      <td>CS8077</td>\n",
       "      <td>01-Mar-15</td>\n",
       "      <td>19</td>\n",
       "      <td>0</td>\n",
       "    </tr>\n",
       "    <tr>\n",
       "      <th>124968</th>\n",
       "      <td>CS8077</td>\n",
       "      <td>13-Jan-13</td>\n",
       "      <td>37</td>\n",
       "      <td>0</td>\n",
       "    </tr>\n",
       "  </tbody>\n",
       "</table>\n",
       "<p>124969 rows × 4 columns</p>\n",
       "</div>"
      ],
      "text/plain": [
       "       customer_id trans_date  tran_amount  response\n",
       "0           CS5295  11-Feb-13           35         1\n",
       "1           CS5295  25-Nov-14           54         1\n",
       "2           CS5295  22-May-13           37         1\n",
       "3           CS5295  24-Dec-12           36         1\n",
       "4           CS5295  22-Mar-13           98         1\n",
       "...            ...        ...          ...       ...\n",
       "124964      CS8077  18-Sep-11           51         0\n",
       "124965      CS8077  02-Dec-14           27         0\n",
       "124966      CS8077  28-Aug-11           30         0\n",
       "124967      CS8077  01-Mar-15           19         0\n",
       "124968      CS8077  13-Jan-13           37         0\n",
       "\n",
       "[124969 rows x 4 columns]"
      ]
     },
     "execution_count": 14,
     "metadata": {},
     "output_type": "execute_result"
    }
   ],
   "source": [
    "merged_data = pd.merge(trxn, response, on='customer_id')\n",
    "merged_data"
   ]
  },
  {
   "cell_type": "code",
   "execution_count": 30,
   "id": "301fc51e",
   "metadata": {},
   "outputs": [
    {
     "data": {
      "text/html": [
       "<div>\n",
       "<style scoped>\n",
       "    .dataframe tbody tr th:only-of-type {\n",
       "        vertical-align: middle;\n",
       "    }\n",
       "\n",
       "    .dataframe tbody tr th {\n",
       "        vertical-align: top;\n",
       "    }\n",
       "\n",
       "    .dataframe thead th {\n",
       "        text-align: right;\n",
       "    }\n",
       "</style>\n",
       "<table border=\"1\" class=\"dataframe\">\n",
       "  <thead>\n",
       "    <tr style=\"text-align: right;\">\n",
       "      <th></th>\n",
       "      <th>customer_id</th>\n",
       "      <th>trans_date</th>\n",
       "      <th>tran_amount</th>\n",
       "      <th>response</th>\n",
       "      <th>amount_range</th>\n",
       "    </tr>\n",
       "  </thead>\n",
       "  <tbody>\n",
       "    <tr>\n",
       "      <th>0</th>\n",
       "      <td>CS5295</td>\n",
       "      <td>2013-02-11</td>\n",
       "      <td>35</td>\n",
       "      <td>1</td>\n",
       "      <td>0-50</td>\n",
       "    </tr>\n",
       "    <tr>\n",
       "      <th>1</th>\n",
       "      <td>CS5295</td>\n",
       "      <td>2014-11-25</td>\n",
       "      <td>54</td>\n",
       "      <td>1</td>\n",
       "      <td>51-100</td>\n",
       "    </tr>\n",
       "    <tr>\n",
       "      <th>2</th>\n",
       "      <td>CS5295</td>\n",
       "      <td>2013-05-22</td>\n",
       "      <td>37</td>\n",
       "      <td>1</td>\n",
       "      <td>0-50</td>\n",
       "    </tr>\n",
       "    <tr>\n",
       "      <th>3</th>\n",
       "      <td>CS5295</td>\n",
       "      <td>2012-12-24</td>\n",
       "      <td>36</td>\n",
       "      <td>1</td>\n",
       "      <td>0-50</td>\n",
       "    </tr>\n",
       "    <tr>\n",
       "      <th>4</th>\n",
       "      <td>CS5295</td>\n",
       "      <td>2013-03-22</td>\n",
       "      <td>98</td>\n",
       "      <td>1</td>\n",
       "      <td>51-100</td>\n",
       "    </tr>\n",
       "    <tr>\n",
       "      <th>...</th>\n",
       "      <td>...</td>\n",
       "      <td>...</td>\n",
       "      <td>...</td>\n",
       "      <td>...</td>\n",
       "      <td>...</td>\n",
       "    </tr>\n",
       "    <tr>\n",
       "      <th>124964</th>\n",
       "      <td>CS8077</td>\n",
       "      <td>2011-09-18</td>\n",
       "      <td>51</td>\n",
       "      <td>0</td>\n",
       "      <td>51-100</td>\n",
       "    </tr>\n",
       "    <tr>\n",
       "      <th>124965</th>\n",
       "      <td>CS8077</td>\n",
       "      <td>2014-12-02</td>\n",
       "      <td>27</td>\n",
       "      <td>0</td>\n",
       "      <td>0-50</td>\n",
       "    </tr>\n",
       "    <tr>\n",
       "      <th>124966</th>\n",
       "      <td>CS8077</td>\n",
       "      <td>2011-08-28</td>\n",
       "      <td>30</td>\n",
       "      <td>0</td>\n",
       "      <td>0-50</td>\n",
       "    </tr>\n",
       "    <tr>\n",
       "      <th>124967</th>\n",
       "      <td>CS8077</td>\n",
       "      <td>2015-03-01</td>\n",
       "      <td>19</td>\n",
       "      <td>0</td>\n",
       "      <td>0-50</td>\n",
       "    </tr>\n",
       "    <tr>\n",
       "      <th>124968</th>\n",
       "      <td>CS8077</td>\n",
       "      <td>2013-01-13</td>\n",
       "      <td>37</td>\n",
       "      <td>0</td>\n",
       "      <td>0-50</td>\n",
       "    </tr>\n",
       "  </tbody>\n",
       "</table>\n",
       "<p>124969 rows × 5 columns</p>\n",
       "</div>"
      ],
      "text/plain": [
       "       customer_id trans_date  tran_amount  response amount_range\n",
       "0           CS5295 2013-02-11           35         1         0-50\n",
       "1           CS5295 2014-11-25           54         1       51-100\n",
       "2           CS5295 2013-05-22           37         1         0-50\n",
       "3           CS5295 2012-12-24           36         1         0-50\n",
       "4           CS5295 2013-03-22           98         1       51-100\n",
       "...            ...        ...          ...       ...          ...\n",
       "124964      CS8077 2011-09-18           51         0       51-100\n",
       "124965      CS8077 2014-12-02           27         0         0-50\n",
       "124966      CS8077 2011-08-28           30         0         0-50\n",
       "124967      CS8077 2015-03-01           19         0         0-50\n",
       "124968      CS8077 2013-01-13           37         0         0-50\n",
       "\n",
       "[124969 rows x 5 columns]"
      ]
     },
     "execution_count": 30,
     "metadata": {},
     "output_type": "execute_result"
    }
   ],
   "source": [
    "merged_data['trans_date'] = pd.to_datetime(merged_data['trans_date'], format='%d-%b-%y')\n",
    "merged_data"
   ]
  },
  {
   "cell_type": "code",
   "execution_count": 26,
   "id": "6d65773a",
   "metadata": {},
   "outputs": [
    {
     "data": {
      "text/plain": [
       "0.11076346934039642"
      ]
     },
     "execution_count": 26,
     "metadata": {},
     "output_type": "execute_result"
    }
   ],
   "source": [
    "response_rate = merged_data['response'].mean()\n",
    "response_rate"
   ]
  },
  {
   "cell_type": "code",
   "execution_count": 27,
   "id": "3490b804",
   "metadata": {},
   "outputs": [
    {
     "data": {
      "text/html": [
       "<div>\n",
       "<style scoped>\n",
       "    .dataframe tbody tr th:only-of-type {\n",
       "        vertical-align: middle;\n",
       "    }\n",
       "\n",
       "    .dataframe tbody tr th {\n",
       "        vertical-align: top;\n",
       "    }\n",
       "\n",
       "    .dataframe thead th {\n",
       "        text-align: right;\n",
       "    }\n",
       "</style>\n",
       "<table border=\"1\" class=\"dataframe\">\n",
       "  <thead>\n",
       "    <tr style=\"text-align: right;\">\n",
       "      <th></th>\n",
       "      <th>customer_id</th>\n",
       "      <th>trans_date</th>\n",
       "      <th>tran_amount</th>\n",
       "      <th>response</th>\n",
       "      <th>amount_range</th>\n",
       "    </tr>\n",
       "  </thead>\n",
       "  <tbody>\n",
       "    <tr>\n",
       "      <th>0</th>\n",
       "      <td>CS5295</td>\n",
       "      <td>11-Feb-13</td>\n",
       "      <td>35</td>\n",
       "      <td>1</td>\n",
       "      <td>0-50</td>\n",
       "    </tr>\n",
       "    <tr>\n",
       "      <th>1</th>\n",
       "      <td>CS5295</td>\n",
       "      <td>25-Nov-14</td>\n",
       "      <td>54</td>\n",
       "      <td>1</td>\n",
       "      <td>51-100</td>\n",
       "    </tr>\n",
       "    <tr>\n",
       "      <th>2</th>\n",
       "      <td>CS5295</td>\n",
       "      <td>22-May-13</td>\n",
       "      <td>37</td>\n",
       "      <td>1</td>\n",
       "      <td>0-50</td>\n",
       "    </tr>\n",
       "    <tr>\n",
       "      <th>3</th>\n",
       "      <td>CS5295</td>\n",
       "      <td>24-Dec-12</td>\n",
       "      <td>36</td>\n",
       "      <td>1</td>\n",
       "      <td>0-50</td>\n",
       "    </tr>\n",
       "    <tr>\n",
       "      <th>4</th>\n",
       "      <td>CS5295</td>\n",
       "      <td>22-Mar-13</td>\n",
       "      <td>98</td>\n",
       "      <td>1</td>\n",
       "      <td>51-100</td>\n",
       "    </tr>\n",
       "    <tr>\n",
       "      <th>...</th>\n",
       "      <td>...</td>\n",
       "      <td>...</td>\n",
       "      <td>...</td>\n",
       "      <td>...</td>\n",
       "      <td>...</td>\n",
       "    </tr>\n",
       "    <tr>\n",
       "      <th>124964</th>\n",
       "      <td>CS8077</td>\n",
       "      <td>18-Sep-11</td>\n",
       "      <td>51</td>\n",
       "      <td>0</td>\n",
       "      <td>51-100</td>\n",
       "    </tr>\n",
       "    <tr>\n",
       "      <th>124965</th>\n",
       "      <td>CS8077</td>\n",
       "      <td>02-Dec-14</td>\n",
       "      <td>27</td>\n",
       "      <td>0</td>\n",
       "      <td>0-50</td>\n",
       "    </tr>\n",
       "    <tr>\n",
       "      <th>124966</th>\n",
       "      <td>CS8077</td>\n",
       "      <td>28-Aug-11</td>\n",
       "      <td>30</td>\n",
       "      <td>0</td>\n",
       "      <td>0-50</td>\n",
       "    </tr>\n",
       "    <tr>\n",
       "      <th>124967</th>\n",
       "      <td>CS8077</td>\n",
       "      <td>01-Mar-15</td>\n",
       "      <td>19</td>\n",
       "      <td>0</td>\n",
       "      <td>0-50</td>\n",
       "    </tr>\n",
       "    <tr>\n",
       "      <th>124968</th>\n",
       "      <td>CS8077</td>\n",
       "      <td>13-Jan-13</td>\n",
       "      <td>37</td>\n",
       "      <td>0</td>\n",
       "      <td>0-50</td>\n",
       "    </tr>\n",
       "  </tbody>\n",
       "</table>\n",
       "<p>124969 rows × 5 columns</p>\n",
       "</div>"
      ],
      "text/plain": [
       "       customer_id trans_date  tran_amount  response amount_range\n",
       "0           CS5295  11-Feb-13           35         1         0-50\n",
       "1           CS5295  25-Nov-14           54         1       51-100\n",
       "2           CS5295  22-May-13           37         1         0-50\n",
       "3           CS5295  24-Dec-12           36         1         0-50\n",
       "4           CS5295  22-Mar-13           98         1       51-100\n",
       "...            ...        ...          ...       ...          ...\n",
       "124964      CS8077  18-Sep-11           51         0       51-100\n",
       "124965      CS8077  02-Dec-14           27         0         0-50\n",
       "124966      CS8077  28-Aug-11           30         0         0-50\n",
       "124967      CS8077  01-Mar-15           19         0         0-50\n",
       "124968      CS8077  13-Jan-13           37         0         0-50\n",
       "\n",
       "[124969 rows x 5 columns]"
      ]
     },
     "execution_count": 27,
     "metadata": {},
     "output_type": "execute_result"
    }
   ],
   "source": [
    "bins = [0, 50, 100, 150, 200, 500, 1000]\n",
    "labels = ['0-50', '51-100', '101-150', '151-200', '201-500', '501-1000']\n",
    "merged_data['amount_range'] = pd.cut(merged_data['tran_amount'], bins=bins, labels=labels)\n",
    "merged_data"
   ]
  },
  {
   "cell_type": "code",
   "execution_count": 28,
   "id": "06823af6",
   "metadata": {},
   "outputs": [
    {
     "data": {
      "text/plain": [
       "amount_range\n",
       "0-50        0.089024\n",
       "51-100      0.118703\n",
       "101-150     0.133644\n",
       "151-200          NaN\n",
       "201-500          NaN\n",
       "501-1000         NaN\n",
       "Name: response, dtype: float64"
      ]
     },
     "execution_count": 28,
     "metadata": {},
     "output_type": "execute_result"
    }
   ],
   "source": [
    "response_rate_by_amount_range = merged_data.groupby('amount_range')['response'].mean()\n",
    "response_rate_by_amount_range"
   ]
  },
  {
   "cell_type": "code",
   "execution_count": 31,
   "id": "eb1e81c6",
   "metadata": {},
   "outputs": [
    {
     "data": {
      "text/plain": [
       "year\n",
       "2011    0.098397\n",
       "2012    0.101350\n",
       "2013    0.118632\n",
       "2014    0.125458\n",
       "2015    0.085145\n",
       "Name: response, dtype: float64"
      ]
     },
     "execution_count": 31,
     "metadata": {},
     "output_type": "execute_result"
    }
   ],
   "source": [
    "merged_data['year'] = merged_data['trans_date'].dt.year\n",
    "response_rate_by_year = merged_data.groupby('year')['response'].mean()\n",
    "response_rate_by_year"
   ]
  },
  {
   "cell_type": "code",
   "execution_count": 32,
   "id": "b5646198",
   "metadata": {},
   "outputs": [
    {
     "data": {
      "text/plain": [
       "63.093407707072544"
      ]
     },
     "execution_count": 32,
     "metadata": {},
     "output_type": "execute_result"
    }
   ],
   "source": [
    "avg_tran_amount = merged_data.groupby('customer_id')['tran_amount'].mean().mean()\n",
    "avg_tran_amount"
   ]
  },
  {
   "cell_type": "code",
   "execution_count": 33,
   "id": "b26691d1",
   "metadata": {},
   "outputs": [
    {
     "data": {
      "text/plain": [
       "response\n",
       "0    7166830\n",
       "1     955548\n",
       "Name: tran_amount, dtype: int64"
      ]
     },
     "execution_count": 33,
     "metadata": {},
     "output_type": "execute_result"
    }
   ],
   "source": [
    "total_tran_amount_by_response = merged_data.groupby('response')['tran_amount'].sum()\n",
    "total_tran_amount_by_response"
   ]
  },
  {
   "cell_type": "code",
   "execution_count": 34,
   "id": "9fd3888b",
   "metadata": {},
   "outputs": [
    {
     "data": {
      "text/plain": [
       "response\n",
       "0    111127\n",
       "1     13842\n",
       "Name: customer_id, dtype: int64"
      ]
     },
     "execution_count": 34,
     "metadata": {},
     "output_type": "execute_result"
    }
   ],
   "source": [
    "transaction_frequency_by_response = merged_data.groupby('response')['customer_id'].count()\n",
    "transaction_frequency_by_response"
   ]
  },
  {
   "cell_type": "code",
   "execution_count": 35,
   "id": "d9df66a9",
   "metadata": {},
   "outputs": [
    {
     "data": {
      "text/plain": [
       "response\n",
       "0    64.492248\n",
       "1    69.032510\n",
       "Name: tran_amount, dtype: float64"
      ]
     },
     "execution_count": 35,
     "metadata": {},
     "output_type": "execute_result"
    }
   ],
   "source": [
    "avg_tran_amount_by_response = merged_data.groupby('response')['tran_amount'].mean()\n",
    "avg_tran_amount_by_response"
   ]
  },
  {
   "cell_type": "code",
   "execution_count": 36,
   "id": "6ea13c90",
   "metadata": {},
   "outputs": [
    {
     "data": {
      "text/plain": [
       "month\n",
       "2011-05     98901\n",
       "2011-06    174527\n",
       "2011-07    178038\n",
       "2011-08    188605\n",
       "2011-09    169173\n",
       "2011-10    182613\n",
       "2011-11    166830\n",
       "2011-12    181326\n",
       "2012-01    177969\n",
       "2012-02    170135\n",
       "2012-03    180453\n",
       "2012-04    167955\n",
       "2012-05    178880\n",
       "2012-06    172933\n",
       "2012-07    178964\n",
       "2012-08    179164\n",
       "2012-09    174813\n",
       "2012-10    181621\n",
       "2012-11    178998\n",
       "2012-12    173657\n",
       "2013-01    181729\n",
       "2013-02    160233\n",
       "2013-03    181389\n",
       "2013-04    173642\n",
       "2013-05    185826\n",
       "2013-06    176813\n",
       "2013-07    180983\n",
       "2013-08    180031\n",
       "2013-09    176830\n",
       "2013-10    181521\n",
       "2013-11    177341\n",
       "2013-12    180802\n",
       "2014-01    184554\n",
       "2014-02    154151\n",
       "2014-03    179804\n",
       "2014-04    174149\n",
       "2014-05    169555\n",
       "2014-06    172741\n",
       "2014-07    179026\n",
       "2014-08    178975\n",
       "2014-09    173385\n",
       "2014-10    179303\n",
       "2014-11    174855\n",
       "2014-12    174010\n",
       "2015-01    179837\n",
       "2015-02    160509\n",
       "2015-03     94829\n",
       "Freq: M, Name: tran_amount, dtype: int64"
      ]
     },
     "execution_count": 36,
     "metadata": {},
     "output_type": "execute_result"
    }
   ],
   "source": [
    "merged_data['month'] = merged_data['trans_date'].dt.to_period('M')\n",
    "monthly_tran_amount = merged_data.groupby('month')['tran_amount'].sum()\n",
    "monthly_tran_amount"
   ]
  },
  {
   "cell_type": "code",
   "execution_count": 40,
   "id": "b0c81e16",
   "metadata": {},
   "outputs": [
    {
     "data": {
      "image/png": "[encoded data removed]",
      "text/plain": [
       "<Figure size 1008x720 with 1 Axes>"
      ]
     },
     "metadata": {
      "needs_background": "light"
     },
     "output_type": "display_data"
    }
   ],
   "source": [
    "import matplotlib.pyplot as plt\n",
    "import seaborn as sns\n",
    "\n",
    "plt.figure(figsize=(14, 10))\n",
    "\n",
    "# 1. Response Rate by Transaction Amount Ranges\n",
    "plt.subplot(2, 2, 1)\n",
    "sns.barplot(x=merged_data['amount_range'], y=merged_data['response'])\n",
    "plt.title('Response Rate by Transaction Amount Ranges')\n",
    "plt.xlabel('Transaction Amount Range')\n",
    "plt.ylabel('Response Rate')\n",
    "plt.show()"
   ]
  },
  {
   "cell_type": "code",
   "execution_count": 41,
   "id": "72a12324",
   "metadata": {},
   "outputs": [
    {
     "data": {
      "image/png": "[encoded data removed]",
      "text/plain": [
       "<Figure size 432x288 with 1 Axes>"
      ]
     },
     "metadata": {
      "needs_background": "light"
     },
     "output_type": "display_data"
    }
   ],
   "source": [
    "plt.subplot(2, 2, 2)\n",
    "sns.lineplot(x=merged_data['year'], y=merged_data['response'])\n",
    "plt.title('Response Rate by Year')\n",
    "plt.xlabel('Year')\n",
    "plt.ylabel('Response Rate')\n",
    "plt.show()"
   ]
  },
  {
   "cell_type": "code",
   "execution_count": 44,
   "id": "39e9ba2c",
   "metadata": {},
   "outputs": [
    {
     "data": {
      "image/png": "[encoded data removed]",
      "text/plain": [
       "<Figure size 432x288 with 1 Axes>"
      ]
     },
     "metadata": {
      "needs_background": "light"
     },
     "output_type": "display_data"
    }
   ],
   "source": [
    "plt.subplot(2, 2, 3)\n",
    "sns.barplot(x=merged_data['response'], y=merged_data['tran_amount'])\n",
    "plt.title('Average Transaction Amount by Response')\n",
    "plt.xlabel('Response')\n",
    "plt.ylabel('Average Transaction Amount')\n",
    "plt.show()"
   ]
  },
  {
   "cell_type": "code",
   "execution_count": 57,
   "id": "ac279c3f",
   "metadata": {},
   "outputs": [
    {
     "data": {
      "image/png": "[encoded data removed]",
      "text/plain": [
       "<Figure size 432x288 with 1 Axes>"
      ]
     },
     "metadata": {
      "needs_background": "light"
     },
     "output_type": "display_data"
    }
   ],
   "source": [
    "monthly_tran_amount = merged_data.groupby('month')['tran_amount'].sum().reset_index()\n",
    "plt.subplot(2, 1, 2)\n",
    "sns.lineplot(x=monthly_tran_amount['month'].astype(str), y=monthly_tran_amount['tran_amount'])\n",
    "plt.title('Monthly Transaction Amounts')\n",
    "plt.xlabel('Month')\n",
    "plt.ylabel('Transaction Amount')\n",
    "plt.xticks(rotation=90)\n",
    "plt.show()"
   ]
  },
  {
   "cell_type": "code",
   "execution_count": 58,
   "id": "0ae54728",
   "metadata": {},
   "outputs": [
    {
     "data": {
      "image/png": "[encoded data removed]",
      "text/plain": [
       "<Figure size 576x432 with 2 Axes>"
      ]
     },
     "metadata": {
      "needs_background": "light"
     },
     "output_type": "display_data"
    }
   ],
   "source": [
    "correlation_matrix = merged_data[['tran_amount', 'response']].corr()\n",
    "\n",
    "plt.figure(figsize=(8, 6))\n",
    "\n",
    "sns.heatmap(correlation_matrix, annot=True, cmap='coolwarm', vmin=-1, vmax=1)\n",
    "plt.title('Correlation Heatmap')\n",
    "\n",
    "plt.show()"
   ]
  },
  {
   "cell_type": "code",
   "execution_count": null,
   "id": "3e5a886a",
   "metadata": {},
   "outputs": [],
   "source": []
  },
  {
   "cell_type": "code",
   "execution_count": null,
   "id": "0f0a6b01",
   "metadata": {},
   "outputs": [],
   "source": []
  }
 ],
 "metadata": {
  "kernelspec": {
   "display_name": "Python 3 (ipykernel)",
   "language": "python",
   "name": "python3"
  },
  "language_info": {
   "codemirror_mode": {
    "name": "ipython",
    "version": 3
   },
   "file_extension": ".py",
   "mimetype": "text/x-python",
   "name": "python",
   "nbconvert_exporter": "python",
   "pygments_lexer": "ipython3",
   "version": "3.9.7"
  }
 },
 "nbformat": 4,
 "nbformat_minor": 5
}
